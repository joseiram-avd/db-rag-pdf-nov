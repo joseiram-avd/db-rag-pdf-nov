{
 "cells": [
  {
   "cell_type": "code",
   "execution_count": 0,
   "metadata": {
    "application/vnd.databricks.v1+cell": {
     "cellMetadata": {
      "byteLimit": 2048000,
      "rowLimit": 10000
     },
     "inputWidgets": {},
     "nuid": "09f0cfdd-5cf3-4677-bf1f-a23bd7e18468",
     "showTitle": true,
     "tableResultSettingsMap": {},
     "title": "Install Packages and Restart Python Environment"
    }
   },
   "outputs": [],
   "source": [
    "%pip install --quiet -U transformers==4.41.1 pypdf==4.1.0 langchain-text-splitters==0.2.0 databricks-vectorsearch mlflow tiktoken==0.7.0 torch==2.3.0 llama-index==0.10.43 markdownify cloudpickle==2.2.1\n",
    "\n",
    "dbutils.library.restartPython() "
   ]
  },
  {
   "cell_type": "code",
   "execution_count": 0,
   "metadata": {
    "application/vnd.databricks.v1+cell": {
     "cellMetadata": {
      "byteLimit": 2048000,
      "rowLimit": 10000
     },
     "inputWidgets": {},
     "nuid": "a8426699-fec2-47e4-90ed-df31c0dfd4ef",
     "showTitle": true,
     "tableResultSettingsMap": {},
     "title": "MLflow Experiment Setup and Prompt Model Registration"
    }
   },
   "outputs": [],
   "source": [
    "import mlflow\n",
    "from mlflow.models import infer_signature\n",
    "import pandas as pd\n",
    "import json\n",
    "import logging\n",
    "\n",
    "# Set logging level to DEBUG\n",
    "logging.basicConfig(level=logging.DEBUG)\n",
    "\n",
    "# Set the experiment name in the workspace\n",
    "experiment_name = \"/Users/jose.iram@avanade.com/prompts/invoices_processing_prompts\"\n",
    "\n",
    "mlflow.set_experiment(experiment_name)\n",
    "\n",
    "# Define your prompts\n",
    "prompts = {\n",
    "    \"document_classification\": \"Classify this document into one of the following categories: invoice, receipt, ID, contract.\",\n",
    "    \"information_extraction\": \"Extract the following fields from this document: date, total amount, vendor name, transaction ID.\"\n",
    "}\n",
    "\n",
    "# Start MLflow run\n",
    "with mlflow.start_run(run_name=\"invoices_processing_prompts\"):\n",
    "    # Register prompts as artifacts\n",
    "    with open(\"invoices_prompts.json\", \"w\") as f:\n",
    "        json.dump(prompts, f)\n",
    "    \n",
    "    mlflow.log_artifact(\"invoices_prompts.json\", \"invoices_prompts\")\n",
    "    \n",
    "    # Log additional metadata\n",
    "    mlflow.log_params({\n",
    "        \"prompt_version\": \"2.0\",\n",
    "        \"use_case\": \"invoices_processing\",\n",
    "        \"language\": \"pt-br,en\",\n",
    "        \"mlflow_version\": mlflow.__version__  # Log the MLflow version\n",
    "    })\n",
    "    \n",
    "    # Define the conda environment\n",
    "    conda_env = {\n",
    "        'name': 'invoices_processing_env',\n",
    "        'channels': ['defaults'],\n",
    "        'dependencies': [\n",
    "            'python=3.8.5',\n",
    "            'pip',\n",
    "            {\n",
    "                'pip': [\n",
    "                    'mlflow==2.22.0'\n",
    "                ]\n",
    "            }\n",
    "        ]\n",
    "    }\n",
    "    \n",
    "    # Log the prompts model\n",
    "    mlflow.pyfunc.log_model(\n",
    "        artifact_path=\"invoices_prompt_model\",\n",
    "        loader_module=\"mlflow.pyfunc\",\n",
    "        data_path=\"invoices_prompts.json\",\n",
    "        code_path=None,\n",
    "        conda_env=conda_env,\n",
    "        python_model=None,\n",
    "        artifacts=None,\n",
    "        signature=infer_signature(pd.DataFrame({\"context\": [\"example\"]}), pd.DataFrame({\"prompt\": [\"example\"]})),\n",
    "    )"
   ]
  },
  {
   "cell_type": "markdown",
   "metadata": {
    "application/vnd.databricks.v1+cell": {
     "cellMetadata": {},
     "inputWidgets": {},
     "nuid": "4fe6f96f-db02-4208-a24e-1ca9602ae854",
     "showTitle": false,
     "tableResultSettingsMap": {},
     "title": ""
    }
   },
   "source": [
    "# Backup"
   ]
  },
  {
   "cell_type": "code",
   "execution_count": 0,
   "metadata": {
    "application/vnd.databricks.v1+cell": {
     "cellMetadata": {},
     "inputWidgets": {},
     "nuid": "abe036b0-1dcf-4c87-8db2-5929d491bdfa",
     "showTitle": false,
     "tableResultSettingsMap": {},
     "title": ""
    }
   },
   "outputs": [],
   "source": [
    "import mlflow\n",
    "from mlflow.models import infer_signature\n",
    "import pandas as pd\n",
    "import json\n",
    "\n",
    "# Iniciar um experimento MLflow\n",
    "folderVolumePath = f\"/Users/jose.iram@avanade.com/Databricks/llm-rag-pdf-based\"\n",
    "\n",
    "mlflow.create_experiment(folderVolumePath)\n",
    "\n",
    "mlflow.set_experiment(experiment_name=folderVolumePath)\n",
    "\n",
    "# Definir seus prompts\n",
    "prompts = {\n",
    "    \"document_classification\": \"Classify this document into one of the following categories: invoice, receipt, ID, contract.\",\n",
    "    \"information_extraction\": \"Extract the following fields from this document: date, total amount, vendor name, transaction ID.\"\n",
    "}\n",
    "\n",
    "# Iniciar o tracking do MLflow\n",
    "with mlflow.start_run(run_name=\"invoices_processing_prompts\"):\n",
    "    # Registrar os prompts como artefatos\n",
    "    with open(\"invoices_prompts.json\", \"w\") as f:\n",
    "        json.dump(prompts, f)\n",
    "    \n",
    "    mlflow.log_artifact(\"invoices_prompts.json\", \"invoices_prompts\")\n",
    "    \n",
    "    # Registrar metadados adicionais\n",
    "    mlflow.log_params({\n",
    "        \"prompt_version\": \"1.0\",\n",
    "        \"use_case\": \"invoices_processing\",\n",
    "        \"language\": \"pt-br,en\"\n",
    "    })\n",
    "    \n",
    "    # Registrar o modelo de prompts\n",
    "    mlflow.pyfunc.log_model(\n",
    "        artifact_path=\"invoices_prompt_model\",\n",
    "        python_model=None,  # Você pode criar uma classe personalizada se necessário\n",
    "        artifacts={\"invoices_prompts\": \"invoices_prompts.json\"},\n",
    "        signature=infer_signature(pd.DataFrame({\"context\": [\"exemplo\"]}), pd.DataFrame({\"prompt\": [\"exemplo\"]}))\n",
    "    )\n",
    "\n",
    "# Registrar o modelo no Model Registry\n",
    "model_name = \"invoices_processing_prompts\"\n",
    "model_version = mlflow.register_model(f\"runs:/{mlflow.active_run().info.run_id}/invoices_prompt_model\", model_name)"
   ]
  }
 ],
 "metadata": {
  "application/vnd.databricks.v1+notebook": {
   "computePreferences": null,
   "dashboards": [],
   "environmentMetadata": {
    "base_environment": "",
    "environment_version": "2"
   },
   "inputWidgetPreferences": null,
   "language": "python",
   "notebookMetadata": {
    "pythonIndentUnit": 4
   },
   "notebookName": "Step 3 Prompts",
   "widgets": {}
  },
  "language_info": {
   "name": "python"
  }
 },
 "nbformat": 4,
 "nbformat_minor": 0
}
