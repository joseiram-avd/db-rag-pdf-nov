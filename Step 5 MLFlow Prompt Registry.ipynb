{
 "cells": [
  {
   "cell_type": "code",
   "execution_count": 0,
   "metadata": {
    "application/vnd.databricks.v1+cell": {
     "cellMetadata": {
      "byteLimit": 2048000,
      "rowLimit": 10000
     },
     "inputWidgets": {},
     "nuid": "993122c5-39b9-4354-a2f3-3fa079a5a81b",
     "showTitle": true,
     "tableResultSettingsMap": {},
     "title": "Registering a Summarization Prompt with mlflow"
    }
   },
   "outputs": [],
   "source": [
    "import mlflow\n",
    "\n",
    "# Use double curly braces for variables in the template\n",
    "initial_template = \"\"\"\\\n",
    "Summarize content you are provided with in {{ num_sentences }} sentences.\n",
    "\n",
    "Sentences: {{ sentences }}\n",
    "\"\"\"\n",
    "\n",
    "# Register a new prompt\n",
    "prompt = mlflow.register_prompt(\n",
    "    name=\"summarization-prompt\",\n",
    "    template=initial_template,\n",
    "    # Optional: Provide a commit message to describe the changes\n",
    "    commit_message=\"Initial commit\",\n",
    "    # Optional: Specify any additional metadata about the prompt version\n",
    "    version_metadata={\n",
    "        \"author\": \"author@example.com\",\n",
    "    },\n",
    "    # Optional: Set tags applies to the prompt (across versions)\n",
    "    tags={\n",
    "        \"task\": \"summarization\",\n",
    "        \"language\": \"en\",\n",
    "    },\n",
    ")\n",
    "\n",
    "# The prompt object contains information about the registered prompt\n",
    "print(f\"Created prompt '{prompt.name}' (version {prompt.version})\")"
   ]
  }
 ],
 "metadata": {
  "application/vnd.databricks.v1+notebook": {
   "computePreferences": null,
   "dashboards": [],
   "environmentMetadata": {
    "base_environment": "",
    "environment_version": "2"
   },
   "inputWidgetPreferences": null,
   "language": "python",
   "notebookMetadata": {
    "pythonIndentUnit": 4
   },
   "notebookName": "Step 5 MLFlow Prompt Registry",
   "widgets": {}
  },
  "language_info": {
   "name": "python"
  }
 },
 "nbformat": 4,
 "nbformat_minor": 0
}
