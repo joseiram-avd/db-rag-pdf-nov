{
 "cells": [
  {
   "cell_type": "code",
   "execution_count": 0,
   "metadata": {
    "application/vnd.databricks.v1+cell": {
     "cellMetadata": {
      "byteLimit": 2048000,
      "rowLimit": 10000
     },
     "inputWidgets": {},
     "nuid": "22387f0e-a2e5-4040-82e8-a9e80949e304",
     "showTitle": true,
     "tableResultSettingsMap": {},
     "title": "Create Finance Data Table with Delta Format"
    }
   },
   "outputs": [],
   "source": [
    "catalog = \"demos2025\"\n",
    "db = \"recon\"\n",
    "table_name = \"invoice_data\"\n",
    "\n",
    "spark.sql(f\"DROP TABLE IF EXISTS {catalog}.{db}.{table_name}\")\n",
    "\n",
    "create_table_query = f\"\"\"\n",
    "CREATE TABLE IF NOT EXISTS {catalog}.{db}.{table_name} (\n",
    "    data STRING,\n",
    "    n_operacao STRING,\n",
    "    n_contrato STRING,\n",
    "    tipo STRING,\n",
    "    iof STRING,\n",
    "    ir STRING,\n",
    "    tarifa DOUBLE,\n",
    "    natureza STRING,\n",
    "    valor STRING\n",
    ")\n",
    "\"\"\"\n",
    "\n",
    "spark.sql(create_table_query)"
   ]
  },
  {
   "cell_type": "code",
   "execution_count": 0,
   "metadata": {
    "application/vnd.databricks.v1+cell": {
     "cellMetadata": {
      "byteLimit": 2048000,
      "rowLimit": 10000
     },
     "inputWidgets": {},
     "nuid": "d28e7ad0-124e-4cb8-97e5-6706e3b47f6f",
     "showTitle": true,
     "tableResultSettingsMap": {},
     "title": "Load and Display Travelex Bank Data Stream"
    }
   },
   "outputs": [],
   "source": [
    "# Configurações do Auto Loader\n",
    "schema = \"data STRING, n_operacao STRING, n_contrato STRING, tipo STRING, iof STRING, ir STRING, tarifa DOUBLE, natureza STRING, valor STRING\"\n",
    "\n",
    "# Caminho do diretório de origem\n",
    "source_path = \"/Volumes/demos2025/recon/source_systems/csv/travelexbank/*.csv\"\n",
    "\n",
    "# Caminho do diretório de checkpoint\n",
    "from datetime import datetime\n",
    "\n",
    "# checkpoint_path = f\"/Volumes/demos2025/recon/source_systems/csv/travelexbank/checkpoints/{datetime.now().strftime('%Y%m%d_%H%M%S')}/\"\n",
    "checkpoint_path = f\"/Volumes/demos2025/recon/source_systems/csv/travelexbank/checkpoints/{table_name}/\"\n",
    "\n",
    "# Opções do Auto Loader para encoding e delimitador\n",
    "df = (spark.readStream\n",
    "      .format(\"cloudFiles\")\n",
    "      .option(\"cloudFiles.format\", \"csv\")\n",
    "      .option(\"delimiter\", \";\")              # Delimitador personalizado (;)\n",
    "      .option(\"encoding\", \"ISO-8859-1\")      # Codificação para caracteres especiais (ex: português)\n",
    "      .option(\"header\", \"true\")              # Primeira linha como cabeçalho\n",
    "    #   .option(\"inferSchema\", \"true\")         # Inferir schema automaticamente\n",
    "      .option(\"cloudFiles.schemaLocation\", checkpoint_path)  # Evolução de schema\n",
    "      .schema(schema)               \n",
    "      .load(source_path)\n",
    "      .writeStream \n",
    "      .format(\"delta\") \n",
    "      .outputMode(\"append\") \n",
    "      .option(\"checkpointLocation\", checkpoint_path) \n",
    "      .trigger(availableNow=True) \n",
    "      .toTable(f\"{catalog}.{db}.{table_name}\")\n",
    ")"
   ]
  }
 ],
 "metadata": {
  "application/vnd.databricks.v1+notebook": {
   "computePreferences": null,
   "dashboards": [],
   "environmentMetadata": {
    "base_environment": "",
    "environment_version": "2"
   },
   "inputWidgetPreferences": null,
   "language": "python",
   "notebookMetadata": {
    "pythonIndentUnit": 4
   },
   "notebookName": "Step 6 Autoloader CSV",
   "widgets": {}
  },
  "language_info": {
   "name": "python"
  }
 },
 "nbformat": 4,
 "nbformat_minor": 0
}
